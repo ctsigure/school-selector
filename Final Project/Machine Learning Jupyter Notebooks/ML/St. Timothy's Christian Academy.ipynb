{
 "cells": [
  {
   "cell_type": "code",
   "execution_count": 1,
   "metadata": {},
   "outputs": [],
   "source": [
    "%matplotlib inline\n",
    "import matplotlib.pyplot as plt\n",
    "import numpy as np\n",
    "import pandas as pd"
   ]
  },
  {
   "cell_type": "code",
   "execution_count": 2,
   "metadata": {
    "scrolled": true
   },
   "outputs": [
    {
     "data": {
      "text/html": [
       "<div>\n",
       "<style scoped>\n",
       "    .dataframe tbody tr th:only-of-type {\n",
       "        vertical-align: middle;\n",
       "    }\n",
       "\n",
       "    .dataframe tbody tr th {\n",
       "        vertical-align: top;\n",
       "    }\n",
       "\n",
       "    .dataframe thead th {\n",
       "        text-align: right;\n",
       "    }\n",
       "</style>\n",
       "<table border=\"1\" class=\"dataframe\">\n",
       "  <thead>\n",
       "    <tr style=\"text-align: right;\">\n",
       "      <th></th>\n",
       "      <th>yr</th>\n",
       "      <th>vc</th>\n",
       "      <th>harker</th>\n",
       "      <th>lbs</th>\n",
       "      <th>caa</th>\n",
       "      <th>stvic</th>\n",
       "      <th>stpat</th>\n",
       "      <th>stmar</th>\n",
       "      <th>stleo</th>\n",
       "      <th>stjo</th>\n",
       "      <th>...</th>\n",
       "      <th>al</th>\n",
       "      <th>hs</th>\n",
       "      <th>challs</th>\n",
       "      <th>calvary</th>\n",
       "      <th>champ</th>\n",
       "      <th>cds</th>\n",
       "      <th>sttho</th>\n",
       "      <th>stratford</th>\n",
       "      <th>lcs</th>\n",
       "      <th>basis</th>\n",
       "    </tr>\n",
       "  </thead>\n",
       "  <tbody>\n",
       "    <tr>\n",
       "      <th>0</th>\n",
       "      <td>10</td>\n",
       "      <td>8830</td>\n",
       "      <td>24760</td>\n",
       "      <td>4700</td>\n",
       "      <td>9400</td>\n",
       "      <td>9500</td>\n",
       "      <td>5600</td>\n",
       "      <td>7350</td>\n",
       "      <td>6930</td>\n",
       "      <td>6000</td>\n",
       "      <td>...</td>\n",
       "      <td>6900</td>\n",
       "      <td>7050</td>\n",
       "      <td>14000</td>\n",
       "      <td>6600</td>\n",
       "      <td>11100</td>\n",
       "      <td>11700</td>\n",
       "      <td>6900</td>\n",
       "      <td>13200</td>\n",
       "      <td>6250</td>\n",
       "      <td>19800</td>\n",
       "    </tr>\n",
       "    <tr>\n",
       "      <th>1</th>\n",
       "      <td>11</td>\n",
       "      <td>9250</td>\n",
       "      <td>26040</td>\n",
       "      <td>4970</td>\n",
       "      <td>9850</td>\n",
       "      <td>10000</td>\n",
       "      <td>5900</td>\n",
       "      <td>7750</td>\n",
       "      <td>7210</td>\n",
       "      <td>6400</td>\n",
       "      <td>...</td>\n",
       "      <td>7230</td>\n",
       "      <td>7400</td>\n",
       "      <td>14500</td>\n",
       "      <td>6900</td>\n",
       "      <td>11700</td>\n",
       "      <td>12200</td>\n",
       "      <td>7250</td>\n",
       "      <td>13800</td>\n",
       "      <td>6600</td>\n",
       "      <td>20808</td>\n",
       "    </tr>\n",
       "    <tr>\n",
       "      <th>2</th>\n",
       "      <td>12</td>\n",
       "      <td>9800</td>\n",
       "      <td>27230</td>\n",
       "      <td>5220</td>\n",
       "      <td>10370</td>\n",
       "      <td>10600</td>\n",
       "      <td>6200</td>\n",
       "      <td>8100</td>\n",
       "      <td>7600</td>\n",
       "      <td>6700</td>\n",
       "      <td>...</td>\n",
       "      <td>7500</td>\n",
       "      <td>7800</td>\n",
       "      <td>15500</td>\n",
       "      <td>7120</td>\n",
       "      <td>12300</td>\n",
       "      <td>12800</td>\n",
       "      <td>7600</td>\n",
       "      <td>14520</td>\n",
       "      <td>6900</td>\n",
       "      <td>21500</td>\n",
       "    </tr>\n",
       "    <tr>\n",
       "      <th>3</th>\n",
       "      <td>13</td>\n",
       "      <td>10580</td>\n",
       "      <td>28500</td>\n",
       "      <td>5400</td>\n",
       "      <td>10800</td>\n",
       "      <td>11125</td>\n",
       "      <td>6500</td>\n",
       "      <td>8500</td>\n",
       "      <td>8023</td>\n",
       "      <td>7050</td>\n",
       "      <td>...</td>\n",
       "      <td>7900</td>\n",
       "      <td>8200</td>\n",
       "      <td>16300</td>\n",
       "      <td>7500</td>\n",
       "      <td>13000</td>\n",
       "      <td>13200</td>\n",
       "      <td>7990</td>\n",
       "      <td>15290</td>\n",
       "      <td>7240</td>\n",
       "      <td>23000</td>\n",
       "    </tr>\n",
       "    <tr>\n",
       "      <th>4</th>\n",
       "      <td>14</td>\n",
       "      <td>11030</td>\n",
       "      <td>30000</td>\n",
       "      <td>5700</td>\n",
       "      <td>11435</td>\n",
       "      <td>11500</td>\n",
       "      <td>6800</td>\n",
       "      <td>8900</td>\n",
       "      <td>8420</td>\n",
       "      <td>7400</td>\n",
       "      <td>...</td>\n",
       "      <td>8300</td>\n",
       "      <td>8340</td>\n",
       "      <td>17000</td>\n",
       "      <td>8020</td>\n",
       "      <td>13500</td>\n",
       "      <td>14150</td>\n",
       "      <td>8400</td>\n",
       "      <td>16000</td>\n",
       "      <td>7600</td>\n",
       "      <td>24080</td>\n",
       "    </tr>\n",
       "    <tr>\n",
       "      <th>5</th>\n",
       "      <td>15</td>\n",
       "      <td>11800</td>\n",
       "      <td>31680</td>\n",
       "      <td>6050</td>\n",
       "      <td>12000</td>\n",
       "      <td>12260</td>\n",
       "      <td>7200</td>\n",
       "      <td>9500</td>\n",
       "      <td>8800</td>\n",
       "      <td>7700</td>\n",
       "      <td>...</td>\n",
       "      <td>8820</td>\n",
       "      <td>9080</td>\n",
       "      <td>17500</td>\n",
       "      <td>8300</td>\n",
       "      <td>14200</td>\n",
       "      <td>14230</td>\n",
       "      <td>8800</td>\n",
       "      <td>16800</td>\n",
       "      <td>7900</td>\n",
       "      <td>25300</td>\n",
       "    </tr>\n",
       "    <tr>\n",
       "      <th>6</th>\n",
       "      <td>16</td>\n",
       "      <td>12400</td>\n",
       "      <td>33250</td>\n",
       "      <td>6200</td>\n",
       "      <td>12600</td>\n",
       "      <td>12870</td>\n",
       "      <td>7500</td>\n",
       "      <td>9800</td>\n",
       "      <td>9158</td>\n",
       "      <td>8100</td>\n",
       "      <td>...</td>\n",
       "      <td>9200</td>\n",
       "      <td>9500</td>\n",
       "      <td>18800</td>\n",
       "      <td>8760</td>\n",
       "      <td>15000</td>\n",
       "      <td>15600</td>\n",
       "      <td>9250</td>\n",
       "      <td>17650</td>\n",
       "      <td>8380</td>\n",
       "      <td>26500</td>\n",
       "    </tr>\n",
       "    <tr>\n",
       "      <th>7</th>\n",
       "      <td>17</td>\n",
       "      <td>13140</td>\n",
       "      <td>35000</td>\n",
       "      <td>6500</td>\n",
       "      <td>13200</td>\n",
       "      <td>13500</td>\n",
       "      <td>7900</td>\n",
       "      <td>10380</td>\n",
       "      <td>9670</td>\n",
       "      <td>8500</td>\n",
       "      <td>...</td>\n",
       "      <td>9600</td>\n",
       "      <td>10020</td>\n",
       "      <td>19600</td>\n",
       "      <td>9200</td>\n",
       "      <td>15500</td>\n",
       "      <td>16200</td>\n",
       "      <td>9700</td>\n",
       "      <td>18000</td>\n",
       "      <td>8800</td>\n",
       "      <td>27800</td>\n",
       "    </tr>\n",
       "    <tr>\n",
       "      <th>8</th>\n",
       "      <td>18</td>\n",
       "      <td>14380</td>\n",
       "      <td>36700</td>\n",
       "      <td>7000</td>\n",
       "      <td>13900</td>\n",
       "      <td>14200</td>\n",
       "      <td>8300</td>\n",
       "      <td>10900</td>\n",
       "      <td>10240</td>\n",
       "      <td>9000</td>\n",
       "      <td>...</td>\n",
       "      <td>10200</td>\n",
       "      <td>10520</td>\n",
       "      <td>20750</td>\n",
       "      <td>9750</td>\n",
       "      <td>16500</td>\n",
       "      <td>17200</td>\n",
       "      <td>10300</td>\n",
       "      <td>18990</td>\n",
       "      <td>9250</td>\n",
       "      <td>29280</td>\n",
       "    </tr>\n",
       "  </tbody>\n",
       "</table>\n",
       "<p>9 rows × 32 columns</p>\n",
       "</div>"
      ],
      "text/plain": [
       "   yr     vc  harker   lbs    caa  stvic  stpat  stmar  stleo  stjo  ...    \\\n",
       "0  10   8830   24760  4700   9400   9500   5600   7350   6930  6000  ...     \n",
       "1  11   9250   26040  4970   9850  10000   5900   7750   7210  6400  ...     \n",
       "2  12   9800   27230  5220  10370  10600   6200   8100   7600  6700  ...     \n",
       "3  13  10580   28500  5400  10800  11125   6500   8500   8023  7050  ...     \n",
       "4  14  11030   30000  5700  11435  11500   6800   8900   8420  7400  ...     \n",
       "5  15  11800   31680  6050  12000  12260   7200   9500   8800  7700  ...     \n",
       "6  16  12400   33250  6200  12600  12870   7500   9800   9158  8100  ...     \n",
       "7  17  13140   35000  6500  13200  13500   7900  10380   9670  8500  ...     \n",
       "8  18  14380   36700  7000  13900  14200   8300  10900  10240  9000  ...     \n",
       "\n",
       "      al     hs  challs  calvary  champ    cds  sttho  stratford   lcs  basis  \n",
       "0   6900   7050   14000     6600  11100  11700   6900      13200  6250  19800  \n",
       "1   7230   7400   14500     6900  11700  12200   7250      13800  6600  20808  \n",
       "2   7500   7800   15500     7120  12300  12800   7600      14520  6900  21500  \n",
       "3   7900   8200   16300     7500  13000  13200   7990      15290  7240  23000  \n",
       "4   8300   8340   17000     8020  13500  14150   8400      16000  7600  24080  \n",
       "5   8820   9080   17500     8300  14200  14230   8800      16800  7900  25300  \n",
       "6   9200   9500   18800     8760  15000  15600   9250      17650  8380  26500  \n",
       "7   9600  10020   19600     9200  15500  16200   9700      18000  8800  27800  \n",
       "8  10200  10520   20750     9750  16500  17200  10300      18990  9250  29280  \n",
       "\n",
       "[9 rows x 32 columns]"
      ]
     },
     "execution_count": 2,
     "metadata": {},
     "output_type": "execute_result"
    }
   ],
   "source": [
    "# Read the csv file into a pandas DataFrame\n",
    "tui = pd.read_csv('../Resources/tuition.csv')\n",
    "tui"
   ]
  },
  {
   "cell_type": "code",
   "execution_count": 3,
   "metadata": {},
   "outputs": [
    {
     "name": "stdout",
     "output_type": "stream",
     "text": [
      "Shape:  (9, 1) (9, 1)\n"
     ]
    }
   ],
   "source": [
    "# Assign the data to X and y\n",
    "# Note: Sklearn requires a two-dimensional array of values\n",
    "# so we use reshape to create this\n",
    "\n",
    "X = tui.yr.values.reshape(-1, 1)\n",
    "y = tui.sttim.values.reshape(-1, 1)\n",
    "\n",
    "print(\"Shape: \", X.shape, y.shape)"
   ]
  },
  {
   "cell_type": "code",
   "execution_count": 4,
   "metadata": {
    "nbgrader": {
     "grade": false,
     "grade_id": "cell-9042a62fdddc21ba",
     "locked": false,
     "schema_version": 1,
     "solution": true
    }
   },
   "outputs": [
    {
     "data": {
      "text/plain": [
       "<matplotlib.collections.PathCollection at 0x1135f97f0>"
      ]
     },
     "execution_count": 4,
     "metadata": {},
     "output_type": "execute_result"
    },
    {
     "data": {
      "image/png": "[encoded data removed]",
      "text/plain": [
       "<Figure size 432x288 with 1 Axes>"
      ]
     },
     "metadata": {},
     "output_type": "display_data"
    }
   ],
   "source": [
    "# Plot the data\n",
    "\n",
    "### BEGIN SOLUTION\n",
    "\n",
    "plt.scatter(X, y)\n",
    "\n",
    "### END SOLUTION"
   ]
  },
  {
   "cell_type": "code",
   "execution_count": 5,
   "metadata": {
    "nbgrader": {
     "grade": false,
     "grade_id": "cell-c28431477001b4ca",
     "locked": false,
     "schema_version": 1,
     "solution": true
    }
   },
   "outputs": [],
   "source": [
    "# Create the model and fit the model to the data\n",
    "\n",
    "from sklearn.linear_model import LinearRegression\n",
    "\n",
    "### BEGIN SOLUTION\n",
    "\n",
    "model = LinearRegression()\n",
    "\n",
    "### END SOLUTION"
   ]
  },
  {
   "cell_type": "code",
   "execution_count": 6,
   "metadata": {
    "nbgrader": {
     "grade": false,
     "grade_id": "cell-cf45418a342b12fd",
     "locked": false,
     "schema_version": 1,
     "solution": true
    }
   },
   "outputs": [
    {
     "data": {
      "text/plain": [
       "LinearRegression(copy_X=True, fit_intercept=True, n_jobs=1, normalize=False)"
      ]
     },
     "execution_count": 6,
     "metadata": {},
     "output_type": "execute_result"
    }
   ],
   "source": [
    "# Fit the model to the data. \n",
    "# Note: This is the training step where you fit the line to the data.\n",
    "\n",
    "### BEGIN SOLUTION\n",
    "\n",
    "model.fit(X, y)\n",
    "\n",
    "### END SOLUTION"
   ]
  },
  {
   "cell_type": "code",
   "execution_count": 7,
   "metadata": {
    "nbgrader": {
     "grade": false,
     "grade_id": "cell-546fc1044e2e1c77",
     "locked": false,
     "schema_version": 1,
     "solution": true
    }
   },
   "outputs": [
    {
     "name": "stdout",
     "output_type": "stream",
     "text": [
      "Weight coefficients:  [[483.66666667]]\n",
      "y-axis intercept:  [3152.]\n"
     ]
    }
   ],
   "source": [
    "# Print the coefficient and the intercept for the model\n",
    "\n",
    "### BEGIN SOLUTION\n",
    "print('Weight coefficients: ', model.coef_)\n",
    "print('y-axis intercept: ', model.intercept_)\n",
    "### END SOLUTION"
   ]
  },
  {
   "cell_type": "code",
   "execution_count": 8,
   "metadata": {},
   "outputs": [
    {
     "name": "stdout",
     "output_type": "stream",
     "text": [
      "Min X Value: [[10]]\n",
      "Max X Value: [[18]]\n"
     ]
    }
   ],
   "source": [
    "# Note: we have to transform our min and max values \n",
    "# so they are in the format: array([[ 1.17]])\n",
    "# This is the required format for `model.predict()`\n",
    "\n",
    "x_min = np.array([[X.min()]])\n",
    "x_max = np.array([[X.max()]])\n",
    "print(f\"Min X Value: {x_min}\")\n",
    "print(f\"Max X Value: {x_max}\")"
   ]
  },
  {
   "cell_type": "code",
   "execution_count": 9,
   "metadata": {
    "nbgrader": {
     "grade": false,
     "grade_id": "cell-5314a52e13fd4e63",
     "locked": false,
     "schema_version": 1,
     "solution": true
    }
   },
   "outputs": [],
   "source": [
    "# Calculate the y_min and y_max using model.predict and x_min and x_max\n",
    "\n",
    "### BEGIN SOLUTION\n",
    "y_min = model.predict(x_min)\n",
    "y_max = model.predict(x_max)\n",
    "### END SOLUTION"
   ]
  },
  {
   "cell_type": "code",
   "execution_count": 10,
   "metadata": {
    "nbgrader": {
     "grade": false,
     "grade_id": "cell-63f9d27c8f668bfa",
     "locked": false,
     "schema_version": 1,
     "solution": true
    }
   },
   "outputs": [
    {
     "data": {
      "text/plain": [
       "[<matplotlib.lines.Line2D at 0x1a1888a5c0>]"
      ]
     },
     "execution_count": 10,
     "metadata": {},
     "output_type": "execute_result"
    },
    {
     "data": {
      "image/png": "[encoded data removed]",
      "text/plain": [
       "<Figure size 432x288 with 1 Axes>"
      ]
     },
     "metadata": {},
     "output_type": "display_data"
    }
   ],
   "source": [
    "# Plot X and y using plt.scatter\n",
    "# Plot the model fit line using [x_min[0], x_max[0]], [y_min[0], y_max[0]]\n",
    "\n",
    "### BEGIN SOLUTION\n",
    "plt.scatter(X, y, c='blue')\n",
    "plt.plot([x_min[0], x_max[0]], [y_min[0], y_max[0]], c='red')\n",
    "### END SOLUTION"
   ]
  },
  {
   "cell_type": "code",
   "execution_count": 11,
   "metadata": {},
   "outputs": [
    {
     "name": "stdout",
     "output_type": "stream",
     "text": [
      "Mean Squared Error (MSE): 4732.592592592599\n",
      "R-squared (R2 ): 0.9969746044824532\n"
     ]
    }
   ],
   "source": [
    "from sklearn.metrics import mean_squared_error, r2_score\n",
    "\n",
    "# Use our model to predict a value\n",
    "predicted = model.predict(X)\n",
    "\n",
    "# Score the prediction with mse and r2\n",
    "mse = mean_squared_error(y, predicted)\n",
    "r2 = r2_score(y, predicted)\n",
    "\n",
    "print(f\"Mean Squared Error (MSE): {mse}\")\n",
    "print(f\"R-squared (R2 ): {r2}\")"
   ]
  },
  {
   "cell_type": "code",
   "execution_count": 12,
   "metadata": {},
   "outputs": [
    {
     "data": {
      "text/plain": [
       "0.9969746044824532"
      ]
     },
     "execution_count": 12,
     "metadata": {},
     "output_type": "execute_result"
    }
   ],
   "source": [
    "model.score(X, y)"
   ]
  },
  {
   "cell_type": "code",
   "execution_count": 13,
   "metadata": {},
   "outputs": [],
   "source": [
    "from sklearn.model_selection import train_test_split\n",
    "\n",
    "X_train, X_test, y_train, y_test = train_test_split(X, y, random_state=42)"
   ]
  },
  {
   "cell_type": "code",
   "execution_count": 14,
   "metadata": {},
   "outputs": [
    {
     "data": {
      "text/plain": [
       "LinearRegression(copy_X=True, fit_intercept=True, n_jobs=1, normalize=False)"
      ]
     },
     "execution_count": 14,
     "metadata": {},
     "output_type": "execute_result"
    }
   ],
   "source": [
    "model.fit(X_train, y_train)"
   ]
  },
  {
   "cell_type": "code",
   "execution_count": 15,
   "metadata": {},
   "outputs": [
    {
     "data": {
      "text/plain": [
       "0.9985261033179949"
      ]
     },
     "execution_count": 15,
     "metadata": {},
     "output_type": "execute_result"
    }
   ],
   "source": [
    "model.score(X_test, y_test)"
   ]
  },
  {
   "cell_type": "code",
   "execution_count": 16,
   "metadata": {},
   "outputs": [
    {
     "name": "stdout",
     "output_type": "stream",
     "text": [
      "[[12353.46938776]]\n"
     ]
    }
   ],
   "source": [
    "predicted_19 = model.predict(19)\n",
    "print(predicted_19)"
   ]
  },
  {
   "cell_type": "code",
   "execution_count": 17,
   "metadata": {},
   "outputs": [
    {
     "name": "stdout",
     "output_type": "stream",
     "text": [
      "[[12838.97959184]]\n"
     ]
    }
   ],
   "source": [
    "predicted_20 = model.predict(20)\n",
    "print(predicted_20)"
   ]
  },
  {
   "cell_type": "code",
   "execution_count": 18,
   "metadata": {},
   "outputs": [
    {
     "name": "stdout",
     "output_type": "stream",
     "text": [
      "[[13324.48979592]]\n"
     ]
    }
   ],
   "source": [
    "predicted_21 = model.predict(21)\n",
    "print(predicted_21)"
   ]
  },
  {
   "cell_type": "code",
   "execution_count": 19,
   "metadata": {},
   "outputs": [
    {
     "name": "stdout",
     "output_type": "stream",
     "text": [
      "[[13810.]]\n"
     ]
    }
   ],
   "source": [
    "predicted_22 = model.predict(22)\n",
    "print(predicted_22)"
   ]
  },
  {
   "cell_type": "code",
   "execution_count": 20,
   "metadata": {},
   "outputs": [
    {
     "name": "stdout",
     "output_type": "stream",
     "text": [
      "[[14295.51020408]]\n"
     ]
    }
   ],
   "source": [
    "predicted_23 = model.predict(23)\n",
    "print(predicted_23)"
   ]
  },
  {
   "cell_type": "code",
   "execution_count": null,
   "metadata": {},
   "outputs": [],
   "source": []
  }
 ],
 "metadata": {
  "celltoolbar": "Create Assignment",
  "kernelspec": {
   "display_name": "Python 3",
   "language": "python",
   "name": "python3"
  },
  "language_info": {
   "codemirror_mode": {
    "name": "ipython",
    "version": 3
   },
   "file_extension": ".py",
   "mimetype": "text/x-python",
   "name": "python",
   "nbconvert_exporter": "python",
   "pygments_lexer": "ipython3",
   "version": "3.6.5"
  },
  "varInspector": {
   "cols": {
    "lenName": 16,
    "lenType": 16,
    "lenVar": 40
   },
   "kernels_config": {
    "python": {
     "delete_cmd_postfix": "",
     "delete_cmd_prefix": "del ",
     "library": "var_list.py",
     "varRefreshCmd": "print(var_dic_list())"
    },
    "r": {
     "delete_cmd_postfix": ") ",
     "delete_cmd_prefix": "rm(",
     "library": "var_list.r",
     "varRefreshCmd": "cat(var_dic_list()) "
    }
   },
   "types_to_exclude": [
    "module",
    "function",
    "builtin_function_or_method",
    "instance",
    "_Feature"
   ],
   "window_display": false
  }
 },
 "nbformat": 4,
 "nbformat_minor": 2
}
